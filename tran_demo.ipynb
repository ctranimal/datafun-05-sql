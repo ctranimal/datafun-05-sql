{
 "cells": [
  {
   "cell_type": "markdown",
   "id": "3fe028a6",
   "metadata": {},
   "source": [
    "# CANH TRAN Notebook -DEMO for Project #5\n",
    "\n",
    "- Author: [Ken McTran](https://github.com/ctranimal )\n",
    "- Repository: ( https://github.com/ctranimal/datafun-05-sql )\n",
    "  \n",
    "- Purpose: To practice with Markdown cells, Python cells in a ipynb notebook. To use this Notebook to document and present my findings regarding Project #5\n",
    "- Date: Most recently updated: 7/29/25."
   ]
  },
  {
   "cell_type": "markdown",
   "id": "e932b449",
   "metadata": {},
   "source": [
    "## Section 1. Import external packages \n",
    "   \n",
    "#### The purpose of this section is to import external packages that I will need to execute python code subsequently"
   ]
  },
  {
   "cell_type": "code",
   "execution_count": null,
   "id": "f8291740",
   "metadata": {},
   "outputs": [],
   "source": [
    "# Import from external packages\n",
    "import pandas as pd\n",
    "import seaborn as sns\n",
    "import matplotlib\n",
    "\n",
    "# Axes object (basic plot type returned by Seaborn)\n",
    "from matplotlib.axes import Axes"
   ]
  }
 ],
 "metadata": {
  "kernelspec": {
   "display_name": ".venv",
   "language": "python",
   "name": "python3"
  },
  "language_info": {
   "name": "python",
   "version": "3.13.5"
  }
 },
 "nbformat": 4,
 "nbformat_minor": 5
}
