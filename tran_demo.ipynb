{
 "cells": [
  {
   "cell_type": "markdown",
   "id": "3fe028a6",
   "metadata": {},
   "source": [
    "# CANH TRAN Notebook -DEMO for Project #5\n",
    "\n",
    "- Author: [Ken McTran](https://github.com/ctranimal )\n",
    "- Repository: ( https://github.com/ctranimal/datafun-05-sql )\n",
    "  \n",
    "- Purpose: To practice with Markdown cells, Python cells in a ipynb notebook. To use this Notebook to document and present my findings regarding Project #5\n",
    "- Date: Most recently updated: 7/29/25."
   ]
  },
  {
   "cell_type": "markdown",
   "id": "e932b449",
   "metadata": {},
   "source": [
    "## Section 1. Import external packages \n",
    "   \n",
    "#### The purpose of this section is to import external packages that I will need to execute python code subsequently"
   ]
  },
  {
   "cell_type": "code",
   "execution_count": 2,
   "id": "f8291740",
   "metadata": {},
   "outputs": [
    {
     "ename": "ModuleNotFoundError",
     "evalue": "No module named 'seaborn'",
     "output_type": "error",
     "traceback": [
      "\u001b[31m---------------------------------------------------------------------------\u001b[39m",
      "\u001b[31mModuleNotFoundError\u001b[39m                       Traceback (most recent call last)",
      "\u001b[36mCell\u001b[39m\u001b[36m \u001b[39m\u001b[32mIn[2]\u001b[39m\u001b[32m, line 3\u001b[39m\n\u001b[32m      1\u001b[39m \u001b[38;5;66;03m# Import from external packages\u001b[39;00m\n\u001b[32m      2\u001b[39m \u001b[38;5;28;01mimport\u001b[39;00m\u001b[38;5;250m \u001b[39m\u001b[34;01mpandas\u001b[39;00m\u001b[38;5;250m \u001b[39m\u001b[38;5;28;01mas\u001b[39;00m\u001b[38;5;250m \u001b[39m\u001b[34;01mpd\u001b[39;00m\n\u001b[32m----> \u001b[39m\u001b[32m3\u001b[39m \u001b[38;5;28;01mimport\u001b[39;00m\u001b[38;5;250m \u001b[39m\u001b[34;01mseaborn\u001b[39;00m\u001b[38;5;250m \u001b[39m\u001b[38;5;28;01mas\u001b[39;00m\u001b[38;5;250m \u001b[39m\u001b[34;01msns\u001b[39;00m\n\u001b[32m      4\u001b[39m \u001b[38;5;28;01mimport\u001b[39;00m\u001b[38;5;250m \u001b[39m\u001b[34;01mmatplotlib\u001b[39;00m\n\u001b[32m      6\u001b[39m \u001b[38;5;66;03m# Axes object (basic plot type returned by Seaborn)\u001b[39;00m\n",
      "\u001b[31mModuleNotFoundError\u001b[39m: No module named 'seaborn'"
     ]
    }
   ],
   "source": [
    "# Import from external packages\n",
    "import pandas as pd\n",
    "import seaborn as sns\n",
    "import matplotlib\n",
    "\n",
    "# Axes object (basic plot type returned by Seaborn)\n",
    "from matplotlib.axes import Axes"
   ]
  },
  {
   "cell_type": "markdown",
   "id": "99cb72e6",
   "metadata": {},
   "source": [
    "## Section 2. Run the db01_setup.py script \n",
    "   \n",
    "#### The purpose of this section is to demo the db01_setup.py script that execute the SQL scripts in sql_create folder.\n",
    "\n",
    "On a Terminal window, run the following command (in Mac, at project folder ~/Repos/datafun-05-sql )\n",
    "\n",
    "```bash\n",
    "python3 db01_setup.pl\n",
    "```\n",
    "\n",
    "Resutled in 2 tables successfully created: Students table (with 10 rows, table Testscores table with 10 records)"
   ]
  },
  {
   "cell_type": "markdown",
   "id": "5371575b",
   "metadata": {},
   "source": [
    "## Section 3-1. Run the db02_features.py script to add year_born column and add year_born of 2010 for some students\n",
    "   \n",
    "#### The purpose of this section is to demo the db02_features.py script that execute the SQL scripts in sql_features folder.\n",
    "\n",
    "On a Terminal window, run the following command (in Mac, at project folder ~/Repos/datafun-05-sql )\n",
    "\n",
    "```bash\n",
    "python3 db02_features.pl --setup 1\n",
    "python3 db02_features.pl --update 1\n",
    "```\n",
    "\n",
    "\n",
    "1. Resulted in table Students with add column 'year_born' with only those with lastname 'Doe' added the year_born of 2010\n",
    "2. Note: running command `db02_features.pl --setup 1` has the same effect as running `python3 db01_setup.pl`, it would do 3 things: clear out the tables (i.e: DROP tables), create tables, and re-insert 10 rows into each tables."
   ]
  },
  {
   "cell_type": "markdown",
   "id": "90b17851",
   "metadata": {},
   "source": [
    "## Section 3-2. Run the db02_features.py script to update a Student John 08 Doe's email address\n",
    "   \n",
    "#### The purpose of this section is to demo the db02_features.py script that execute the SQL scripts in sql_features folder.\n",
    "\n",
    "On a Terminal window, run the following command (in Mac, at project folder ~/Repos/datafun-05-sql )\n",
    "\n",
    "```bash\n",
    "python3 db02_features.pl --setup 1\n",
    "python3 db02_features.pl --update 2\n",
    "```\n",
    "\n",
    "1. Resulted in table Student with student's firstname/name as John 08/Doe with his email field updated.\n",
    "2. Note: running command `db02_features.pl --setup 1` has the same effect as running `python3 db01_setup.pl`, it would do 3 things: clear out the tables (i.e: DROP tables), create tables, and re-insert 10 rows into each tables."
   ]
  },
  {
   "cell_type": "markdown",
   "id": "d4cc474d",
   "metadata": {},
   "source": [
    "## Section 3-3. Run the db02_features.py script to Delete a record\n",
    "   \n",
    "#### The purpose of this section is to demo the db02_features.py script that execute the SQL scripts in sql_features folder.\n",
    "\n",
    "On a Terminal window, run the following command (in Mac, at project folder ~/Repos/datafun-05-sql )\n",
    "\n",
    "```bash\n",
    "python3 db02_features.pl --setup 1\n",
    "python3 db02_features.pl --delete 1\n",
    "```\n",
    "\n",
    "1. Resulted in table Student with Test_title as \"AP History\" being deleted\n",
    "2. Note: running command `python3 db02_features.pl --setup 1` has the same effect as running `python3 db01_setup.pl`, it would do 3 things: clear out the tables (i.e: DROP tables), create tables, and re-insert 10 rows into each tables.\n",
    "\n",
    "Similarly \n",
    "```bash\n",
    "python3 db02_features.pl --delete 2\n",
    "```\n",
    "\n",
    " Resulted in table Student with Test_title as \"AP Physics\" being deleted\n",
    "\n",
    " Similarly \n",
    "\n",
    "```bash\n",
    "python3 db02_features.pl --delete 3\n",
    "```\n",
    "\n",
    " Resulted in table Student with taken_date field equal \"12/31/2025\" being deleted.\n",
    " "
   ]
  },
  {
   "cell_type": "markdown",
   "id": "f9c2179d",
   "metadata": {},
   "source": [
    "## Section 4. Run the db03_features.py script to Query the talbes\n",
    "   \n",
    "#### The purpose of this section is to demo the db03_query script that execute the SQL scripts in sql_queries folder.\n",
    "\n",
    "On a Terminal window, run the following command (in Mac, at project folder ~/Repos/datafun-05-sql )\n",
    "\n",
    "```bash\n",
    "python3 db02_queries.pl --setup 1\n",
    "python3 tran_testscore_manager.py\n",
    "```\n",
    "\n",
    "Explaination\n",
    "1. Resulted in the tables Students and Testscores being dropped \n",
    "2. Note: running command `python3 db02_queries.pl --setup 1` has similar effect as running `python3 db01_setup.pl`, it would do 2 things: clear out the tables (i.e: DROP tables), create tables.\n",
    "3. Then, the command `python3 tran_testscore_manager.py` would load students.csv and testscores.csv files (in data folder) into the SQLite database.\n",
    "4. Result: table Students are loaded with 10 students records and table Testscores are loaded with 40 test-scores records.\n",
    "\n",
    "5. After the setting up above, make the following commands with the correcxt \"--query\" argument to invoke th corresponding SQL query command. For example\n",
    "```bash\n",
    "python3 db02_queries.pl --query 1  # to invoke 01_query_aggregation.sql\n",
    "```\n",
    "\n",
    "```bash\n",
    "python3 db02_queries.pl --query 2  # to invoke 02_query_filter.sql\n",
    "```\n",
    "\n",
    "```bash\n",
    "python3 db02_queries.pl --query 3  # to invoke 03_query_group_by.sql\n",
    "```\n",
    "\n",
    "```bash\n",
    "python3 db02_queries.pl --query 4  # to invoke 04_query_join.sql\n",
    "```\n",
    "\n",
    "```bash\n",
    "python3 db02_queries.pl --query 5  # to invoke 05_query_sorting.sql\n",
    "```\n",
    " #### Here are the results of the above 5 queries\n",
    "```bash\n",
    "python3 db02_queries.pl --query 1  # to invoke 01_query_aggregation.sql\n",
    "```\n",
    "      SQL code: SELECT COUNT(*) AS TotalStudents FROM Students\n",
    "      Returned: 10 \n",
    "      Analysis: Indeed, there are 10 records in table Students representing 10 students.\n",
    "\n",
    "\n",
    "```bash\n",
    "python3 db02_queries.pl --query 2  # to invoke 02_query_filter.sql\n",
    "```\n",
    "      SQL code: SELECT first_name FROM Students WHERE last_name=\"Smith\";\n",
    "      Returned: George\n",
    "      Analysis: Indeed, there are 1 record in table Students with student's name first/last = George/Smith\n",
    "\n",
    "```bash\n",
    "python3 db02_queries.pl --query 3  # to invoke 03_query_group_by.sql\n",
    "```\n",
    "      SQL code: SELECT b.test_title AS test_title, COUNT(b.testscore_id) AS testscore_count FROM Students a\n",
    "                    LEFT JOIN Testscores b ON a.student_id = b.student_id\n",
    "                    GROUP BY b.test_title;\n",
    "      Returned: [('Chemistry', 8), ('English', 12), ('Mathematics', 16), ('Physics', 4)]\n",
    "      Analysis: Indeed, there are the test_title and how many there are of each type\n",
    "\n",
    "```bash\n",
    "python3 db02_queries.pl --query 4  # to invoke 04_query_join.sql\n",
    "```\n",
    "      SQL code: SELECT a.last_name AS student_lastname, COUNT(b.testscore_id) AS testscore_count FROM Students a\n",
    "                    LEFT JOIN Testscores b ON a.student_id = b.student_id GROUP BY student_lastname\n",
    "                    ORDER BY testscore_count DESC;\n",
    "      Returned: [('Tolkinience', 4), ('Tolken', 4), ('Smith', 4), ('Sal', 4), ('LeeAnn', 4), ('Huckley', 4), ('Fizz', 4), ('Brad', 4), ('Bowling', 4), ('Aux', 4)]\n",
    "      Analysis: Indeed, these are correct\n",
    "\n",
    "```bash\n",
    "python3 db02_queries.pl --query 5  # to invoke 05_query_sorting.sql\n",
    "```\n",
    "      SQL code: SELECT a.last_name AS student_lastname, COUNT(b.testscore_id) AS testscore_count FROM Students a\n",
    "                    LEFT JOIN Testscores b ON a.student_id = b.student_id GROUP BY b.test_title\n",
    "                    ORDER BY testscore_count DESC;\n",
    "      Returned: [('Fizz', 16), ('LeeAnn', 12), ('Sal', 8), ('Aux', 4)]\n",
    "      Analysis: Indeed, there are correct"
   ]
  }
 ],
 "metadata": {
  "kernelspec": {
   "display_name": ".venv",
   "language": "python",
   "name": "python3"
  },
  "language_info": {
   "codemirror_mode": {
    "name": "ipython",
    "version": 3
   },
   "file_extension": ".py",
   "mimetype": "text/x-python",
   "name": "python",
   "nbconvert_exporter": "python",
   "pygments_lexer": "ipython3",
   "version": "3.13.5"
  }
 },
 "nbformat": 4,
 "nbformat_minor": 5
}
